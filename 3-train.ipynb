{
 "cells": [
  {
   "cell_type": "code",
   "execution_count": 1,
   "id": "b219069f",
   "metadata": {},
   "outputs": [],
   "source": [
    "import pandas as pd\n",
    "import numpy as np\n",
    "import xgboost as xgb\n",
    "import matplotlib.pyplot as plt\n",
    "\n",
    "from sklearn.model_selection import GridSearchCV\n",
    "from sklearn.model_selection import train_test_split\n",
    "from sklearn.metrics import roc_auc_score"
   ]
  },
  {
   "cell_type": "code",
   "execution_count": 2,
   "id": "7208ed44",
   "metadata": {},
   "outputs": [],
   "source": [
    "%run functions.ipynb\n",
    "configurate_display()"
   ]
  },
  {
   "cell_type": "markdown",
   "id": "3f90e919",
   "metadata": {},
   "source": [
    "# Data preparation"
   ]
  },
  {
   "cell_type": "code",
   "execution_count": 3,
   "id": "e58bf779",
   "metadata": {},
   "outputs": [
    {
     "data": {
      "text/plain": [
       "(36025, 437)"
      ]
     },
     "execution_count": 3,
     "metadata": {},
     "output_type": "execute_result"
    }
   ],
   "source": [
    "df = read_file_csv(get_model_dataset_path())\n",
    "df.shape"
   ]
  },
  {
   "cell_type": "code",
   "execution_count": 4,
   "id": "bc384818",
   "metadata": {},
   "outputs": [],
   "source": [
    "X, y = df.loc[:, ~df.columns.isin([get_model_target(), get_model_index()] + get_categorical_features())], df.target\n",
    "X_train, X_test, y_train, y_test = train_test_split(X, y, test_size=0.3, random_state=42)"
   ]
  },
  {
   "cell_type": "code",
   "execution_count": 5,
   "id": "2916784b",
   "metadata": {},
   "outputs": [],
   "source": [
    "data_train = xgb.DMatrix(data=X_train,label=y_train)\n",
    "data_test = xgb.DMatrix(data=X_test)"
   ]
  },
  {
   "cell_type": "markdown",
   "id": "6dea80ab",
   "metadata": {},
   "source": [
    "# Grid search CV"
   ]
  },
  {
   "cell_type": "code",
   "execution_count": 6,
   "id": "d81d1653",
   "metadata": {},
   "outputs": [],
   "source": [
    "params_grid = {\n",
    "        'min_child_weight': [5, 10],\n",
    "        'subsample': [0.6, 0.8],\n",
    "        'colsample_bytree': [0.8],\n",
    "        'max_depth': [5, 10],\n",
    "        'learning_rate': [0.2, 0.7],\n",
    "        }"
   ]
  },
  {
   "cell_type": "code",
   "execution_count": 7,
   "id": "bbf63cea",
   "metadata": {},
   "outputs": [
    {
     "name": "stdout",
     "output_type": "stream",
     "text": [
      "Fitting 3 folds for each of 16 candidates, totalling 48 fits\n",
      "Best x-val roc train: 0.6760552298550162\n"
     ]
    }
   ],
   "source": [
    "clf_xgb = xgb.XGBClassifier(use_label_encoder=False, eval_metric='mlogloss')\n",
    "grid_search = GridSearchCV(clf_xgb, param_grid=params_grid, cv = 3, n_jobs=-1, scoring='roc_auc', return_train_score = True, verbose=10)\n",
    "gs_execution = grid_search.fit(X_train, y_train)\n",
    "print('Best x-val roc train: ' + str(grid_search.best_score_))"
   ]
  },
  {
   "cell_type": "code",
   "execution_count": 8,
   "id": "c2852cd9",
   "metadata": {},
   "outputs": [
    {
     "name": "stdout",
     "output_type": "stream",
     "text": [
      "Best parameters:\n"
     ]
    },
    {
     "data": {
      "text/plain": [
       "{'colsample_bytree': 0.8,\n",
       " 'learning_rate': 0.2,\n",
       " 'max_depth': 5,\n",
       " 'min_child_weight': 10,\n",
       " 'subsample': 0.8}"
      ]
     },
     "execution_count": 8,
     "metadata": {},
     "output_type": "execute_result"
    }
   ],
   "source": [
    "print('Best parameters:')\n",
    "grid_search.best_params_"
   ]
  },
  {
   "cell_type": "code",
   "execution_count": 9,
   "id": "282834b1",
   "metadata": {},
   "outputs": [
    {
     "name": "stdout",
     "output_type": "stream",
     "text": [
      "The following table shows a considerable decrease of the x-val test roc over the x-val train roc, which means that the model is overfitted, so it is necessary to improve the parameters. Anyway this test roc improves our min roc reachable, the decision tree roc which was 66%.\n"
     ]
    },
    {
     "data": {
      "text/html": [
       "<div>\n",
       "<style scoped>\n",
       "    .dataframe tbody tr th:only-of-type {\n",
       "        vertical-align: middle;\n",
       "    }\n",
       "\n",
       "    .dataframe tbody tr th {\n",
       "        vertical-align: top;\n",
       "    }\n",
       "\n",
       "    .dataframe thead th {\n",
       "        text-align: right;\n",
       "    }\n",
       "</style>\n",
       "<table border=\"1\" class=\"dataframe\">\n",
       "  <thead>\n",
       "    <tr style=\"text-align: right;\">\n",
       "      <th></th>\n",
       "      <th>colsample_bytree</th>\n",
       "      <th>learning_rate</th>\n",
       "      <th>max_depth</th>\n",
       "      <th>min_child_weight</th>\n",
       "      <th>subsample</th>\n",
       "      <th>mean_train_score</th>\n",
       "      <th>mean_test_score</th>\n",
       "    </tr>\n",
       "  </thead>\n",
       "  <tbody>\n",
       "    <tr>\n",
       "      <th>3</th>\n",
       "      <td>0.8</td>\n",
       "      <td>0.2</td>\n",
       "      <td>5</td>\n",
       "      <td>10</td>\n",
       "      <td>0.8</td>\n",
       "      <td>0.797387</td>\n",
       "      <td>0.676055</td>\n",
       "    </tr>\n",
       "  </tbody>\n",
       "</table>\n",
       "</div>"
      ],
      "text/plain": [
       "   colsample_bytree  learning_rate  max_depth  min_child_weight  subsample  \\\n",
       "3               0.8            0.2          5                10        0.8   \n",
       "\n",
       "   mean_train_score  mean_test_score  \n",
       "3          0.797387         0.676055  "
      ]
     },
     "execution_count": 9,
     "metadata": {},
     "output_type": "execute_result"
    }
   ],
   "source": [
    "df_mean_train_score = pd.DataFrame(grid_search.cv_results_['mean_train_score'], columns=['mean_train_score'])\n",
    "df_mean_test_score = pd.DataFrame(grid_search.cv_results_['mean_test_score'], columns=['mean_test_score'])\n",
    "df_cv_execution = pd.concat([pd.DataFrame(grid_search.cv_results_[\"params\"]), df_mean_train_score, df_mean_test_score],axis=1)\n",
    "\n",
    "print('The following table shows a considerable decrease of the x-val test roc over the x-val train roc, which means that \\\n",
    "the model is overfitted, so it is necessary to improve the parameters. \\\n",
    "Anyway this test roc improves our min roc reachable, the decision tree roc which was 66%.')\n",
    "\n",
    "df_cv_execution[df_cv_execution.index == 3]"
   ]
  },
  {
   "cell_type": "markdown",
   "id": "d488a642",
   "metadata": {},
   "source": [
    "# Train"
   ]
  },
  {
   "cell_type": "code",
   "execution_count": 10,
   "id": "a2e51ae2",
   "metadata": {},
   "outputs": [],
   "source": [
    "model = xgb.train(params=grid_search.best_estimator_.get_xgb_params(), dtrain=data_train)"
   ]
  },
  {
   "cell_type": "markdown",
   "id": "58439d98",
   "metadata": {},
   "source": [
    "# Feature importance"
   ]
  },
  {
   "cell_type": "code",
   "execution_count": 11,
   "id": "b46d0cc4",
   "metadata": {},
   "outputs": [
    {
     "name": "stdout",
     "output_type": "stream",
     "text": [
      "This chart shows the xgboost feature importance and its scores:\n"
     ]
    },
    {
     "data": {
      "image/png": "[encoded data removed]",
      "text/plain": [
       "<Figure size 432x288 with 1 Axes>"
      ]
     },
     "metadata": {
      "needs_background": "light"
     },
     "output_type": "display_data"
    }
   ],
   "source": [
    "xgb.plot_importance(model, max_num_features = 10, importance_type='weight')\n",
    "print('This chart shows the xgboost feature importance and its scores:')\n",
    "plt.show()"
   ]
  },
  {
   "cell_type": "code",
   "execution_count": 12,
   "id": "a39d89d6",
   "metadata": {},
   "outputs": [
    {
     "name": "stdout",
     "output_type": "stream",
     "text": [
      "Insight age: In the following chart we can observe a decrease in adoption related to increasing age. It could be a good opcion to focus on the age range over 8 years old.\n"
     ]
    },
    {
     "data": {
      "text/plain": [
       "<AxesSubplot:xlabel='age'>"
      ]
     },
     "execution_count": 12,
     "metadata": {},
     "output_type": "execute_result"
    },
    {
     "data": {
      "image/png": "[encoded data removed]",
      "text/plain": [
       "<Figure size 432x288 with 1 Axes>"
      ]
     },
     "metadata": {
      "needs_background": "light"
     },
     "output_type": "display_data"
    }
   ],
   "source": [
    "#Insight ages\n",
    "print('Insight age: In the following chart we can observe a decrease in adoption related to increasing age. \\\n",
    "It could be a good opcion to focus on the age range over 8 years old.')\n",
    "\n",
    "(df.groupby('age')['target'].mean().to_frame()).plot.bar()"
   ]
  },
  {
   "cell_type": "markdown",
   "id": "f0f1ef52",
   "metadata": {},
   "source": [
    "# Prediccion"
   ]
  },
  {
   "cell_type": "code",
   "execution_count": 13,
   "id": "fdf029b4",
   "metadata": {},
   "outputs": [
    {
     "name": "stdout",
     "output_type": "stream",
     "text": [
      "Final model test roc: 0.6817995678531128\n",
      "The test roc is close to x-val test roc which makes sense and it is over the decision tree roc.\n"
     ]
    }
   ],
   "source": [
    "y_pred = model.predict(data_test)\n",
    "print('Final model test roc: ' + str(roc_auc_score(y_test, y_pred)))\n",
    "print('The test roc is close to x-val test roc which makes sense and it is over the decision tree roc.')"
   ]
  }
 ],
 "metadata": {
  "kernelspec": {
   "display_name": "Python 3",
   "language": "python",
   "name": "python3"
  },
  "language_info": {
   "codemirror_mode": {
    "name": "ipython",
    "version": 3
   },
   "file_extension": ".py",
   "mimetype": "text/x-python",
   "name": "python",
   "nbconvert_exporter": "python",
   "pygments_lexer": "ipython3",
   "version": "3.9.5"
  }
 },
 "nbformat": 4,
 "nbformat_minor": 5
}
