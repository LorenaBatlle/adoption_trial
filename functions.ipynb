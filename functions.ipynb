{
 "cells": [
  {
   "cell_type": "markdown",
   "id": "ce1e3d51",
   "metadata": {},
   "source": [
    "# Model parameters "
   ]
  },
  {
   "cell_type": "code",
   "execution_count": null,
   "id": "63b3fccf",
   "metadata": {},
   "outputs": [],
   "source": [
    "def get_model_index():\n",
    "    return 'user_id'"
   ]
  },
  {
   "cell_type": "code",
   "execution_count": null,
   "id": "1046de8f",
   "metadata": {},
   "outputs": [],
   "source": [
    "def get_model_target():\n",
    "    return 'target'"
   ]
  },
  {
   "cell_type": "code",
   "execution_count": null,
   "id": "9eaa6b60",
   "metadata": {},
   "outputs": [],
   "source": [
    "def get_model_dataset_path():\n",
    "    return 'dataset.csv'"
   ]
  },
  {
   "cell_type": "code",
   "execution_count": null,
   "id": "62073deb",
   "metadata": {},
   "outputs": [],
   "source": [
    "def get_categorical_features():\n",
    "    return ['os_name', 'country', 'timezone_continent', 'locale', 'source', 'level', 'signup_provider', 'currency', 'payment_platform']"
   ]
  },
  {
   "cell_type": "markdown",
   "id": "20eb2181",
   "metadata": {},
   "source": [
    "# Configuration"
   ]
  },
  {
   "cell_type": "code",
   "execution_count": null,
   "id": "c9f46da6",
   "metadata": {},
   "outputs": [],
   "source": [
    "def configurate_display():\n",
    "    pd.set_option('display.max_rows', 500)\n",
    "    pd.set_option('display.max_columns', 1500)\n",
    "    pd.options.display.max_colwidth = 100000"
   ]
  },
  {
   "cell_type": "code",
   "execution_count": null,
   "id": "bca85558",
   "metadata": {},
   "outputs": [],
   "source": [
    "def read_file_tsv(path):\n",
    "    df = pd.read_csv(path, sep='\\t', encoding = 'utf-8')\n",
    "    return df"
   ]
  },
  {
   "cell_type": "code",
   "execution_count": null,
   "id": "e365d77c",
   "metadata": {},
   "outputs": [],
   "source": [
    "def read_file_csv(path):\n",
    "    df = pd.read_csv(path, sep=',', encoding = 'utf-8')\n",
    "    return df"
   ]
  },
  {
   "cell_type": "code",
   "execution_count": null,
   "id": "4bc64cc4",
   "metadata": {},
   "outputs": [],
   "source": [
    "def write_file_csv(df, path):\n",
    "    df.to_csv(path + '.csv', index = None, header=True)"
   ]
  },
  {
   "cell_type": "markdown",
   "id": "b34c9e26",
   "metadata": {},
   "source": [
    "# Data parse and to_type"
   ]
  },
  {
   "cell_type": "code",
   "execution_count": null,
   "id": "2d59c7c5",
   "metadata": {},
   "outputs": [],
   "source": [
    "def str_to_dt(df, field):\n",
    "    return pd.to_datetime(df[field], format=\"%Y-%m-%dT%H:%M:%SZ\")"
   ]
  },
  {
   "cell_type": "code",
   "execution_count": null,
   "id": "906b949b",
   "metadata": {},
   "outputs": [],
   "source": [
    "def to_minutes(df, field):\n",
    "    df[field] = df[field].astype('timedelta64[m]')"
   ]
  },
  {
   "cell_type": "code",
   "execution_count": null,
   "id": "35de6949",
   "metadata": {},
   "outputs": [],
   "source": [
    "def to_dt(df, field):\n",
    "    date = pd.to_datetime(df[field], format=\"%Y-%m-%dT%H:%M:%SZ\")"
   ]
  },
  {
   "cell_type": "markdown",
   "id": "97ce4a88",
   "metadata": {},
   "source": [
    "# Graph"
   ]
  },
  {
   "cell_type": "code",
   "execution_count": null,
   "id": "bd2d97a3",
   "metadata": {},
   "outputs": [],
   "source": [
    "def print_tree_graph(file_output_name):\n",
    "    dot_data = tree.export_graphviz(clf_dt, out_file=None, feature_names= X_train.columns, class_names= get_model_target(), proportion = True, filled = True, max_depth=2, impurity = False)\n",
    "    tree_graph = graphviz.Source(dot_data, format=\"png\")\n",
    "    tree_graph.render(file_output_name, cleanup = True)\n",
    "    return tree_graph"
   ]
  }
 ],
 "metadata": {
  "kernelspec": {
   "display_name": "Python 3",
   "language": "python",
   "name": "python3"
  },
  "language_info": {
   "codemirror_mode": {
    "name": "ipython",
    "version": 3
   },
   "file_extension": ".py",
   "mimetype": "text/x-python",
   "name": "python",
   "nbconvert_exporter": "python",
   "pygments_lexer": "ipython3",
   "version": "3.9.5"
  }
 },
 "nbformat": 4,
 "nbformat_minor": 5
}
